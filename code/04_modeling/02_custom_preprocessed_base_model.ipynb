{
 "cells": [
  {
   "cell_type": "code",
   "execution_count": 2,
   "metadata": {},
   "outputs": [],
   "source": [
    "# LIBRARIES\n",
    "\n",
    "import numpy as np\n",
    "import matplotlib.pyplot as plt\n",
    "import pandas as pd\n",
    "import string\n",
    "import re\n",
    "import nltk\n",
    "\n",
    "from nltk.tokenize import word_tokenize\n",
    "from nltk.stem import WordNetLemmatizer\n",
    "\n",
    "from sklearn.dummy import DummyClassifier\n",
    "from sklearn.ensemble import RandomForestClassifier, BaggingClassifier\n",
    "from sklearn.feature_extraction.text import CountVectorizer, TfidfVectorizer\n",
    "from sklearn.linear_model import LogisticRegression\n",
    "from sklearn.metrics import plot_confusion_matrix, classification_report\n",
    "from sklearn.model_selection import train_test_split, GridSearchCV\n",
    "from sklearn.naive_bayes import MultinomialNB\n",
    "from sklearn.pipeline import Pipeline\n",
    "from sklearn.preprocessing import StandardScaler\n",
    "from sklearn.tree import DecisionTreeClassifier\n",
    "\n",
    "import warnings\n",
    "warnings.filterwarnings('ignore')\n",
    "\n",
    "\n",
    "#*******************************************************\n",
    "# FUNCTIONS\n",
    "\n",
    "# function to output results report\n",
    "def print_results(grid, X_train, X_test, y_train, y_test):   \n",
    "    # ***** Display Results *****  \n",
    "    print('*** TEST set ***')\n",
    "    print(f'Score : {grid.score(X_test, y_test)}')\n",
    "    print(classification_report(y_test, grid.predict(X_test)))\n",
    "    print('\\n')\n",
    "    print(f'Best Params : {grid.best_params_}')\n",
    "    \n",
    "    fig, ax = plt.subplots(figsize=(10, 10))\n",
    "    plot_confusion_matrix(grid.best_estimator_, X_test, y_test, display_labels=['Thetruthishere', 'Supernatural'], normalize='true', ax=ax);\n",
    "\n",
    "    \n",
    "# functions to output top predictive words for each subreddit category\n",
    "def top_words(X, vect):\n",
    "    coefs = grid.best_estimator_.named_steps[list(grid.best_estimator_.named_steps.keys())[-1]].coef_\n",
    "    coef_df = pd.DataFrame({'coefs':coefs[0]}, index = grid.best_estimator_.named_steps[list(grid.best_estimator_.named_steps.keys())[0]].get_feature_names())\n",
    "    most_important_25 = coef_df.nlargest(25, 'coefs')\n",
    "    least_important_25 = coef_df.nsmallest(25, 'coefs')\n",
    "    \n",
    "    print(most_important_25)\n",
    "    print(least_important_25)"
   ]
  },
  {
   "cell_type": "markdown",
   "metadata": {},
   "source": [
    "<br><br>"
   ]
  },
  {
   "cell_type": "code",
   "execution_count": 14,
   "metadata": {},
   "outputs": [],
   "source": [
    "stopwords = nltk.corpus.stopwords.words('english') + list(['supernatural', 'dean', 'sam', 'wa', 'episode', 'season', 'finale', 'series', 'scene', 'show', 'spoiler', 'winchester', 'character', 'chuck'])\n",
    "\n",
    "def preprocess(text):\n",
    "    no_punc = [words for words in text if words not in string.punctuation]     # strip puncutation\n",
    "    text = ''.join(no_punc)\n",
    "    tokens = word_tokenize(text)\n",
    "    tokens = [re.sub('\\d', '', words) for words in tokens]                     # strip digits\n",
    "    tokens = [words for words in tokens if len(words) > 2]                     # strip words less than 3 characters long\n",
    "    tokens = [WordNetLemmatizer().lemmatize(words) for words in tokens]        # apply lemmatizer\n",
    "    #print(tokens)\n",
    "    text = [words for words in tokens if words not in stopwords]               # strip stop words\n",
    "    #print(text)\n",
    "    return ' '.join(text)"
   ]
  },
  {
   "cell_type": "code",
   "execution_count": 15,
   "metadata": {},
   "outputs": [],
   "source": [
    "data = pd.read_csv('../../data/cleaned_data/clean_data.csv')\n",
    "\n",
    "X = data['selftext']\n",
    "X = X.apply(lambda x : preprocess(x.lower()))\n",
    "temp = data.drop(columns = ['selftext'])\n",
    "temp['selftext'] = X\n",
    "temp['selftext'].replace('', np.nan, inplace=True)\n",
    "temp.dropna(subset=['selftext'], inplace=True)\n",
    "X = temp['selftext']\n",
    "y = temp['subreddit']\n",
    "\n",
    "X_train, X_test, y_train, y_test = train_test_split(X, y, random_state = 123, stratify = y)"
   ]
  },
  {
   "cell_type": "markdown",
   "metadata": {},
   "source": [
    "<br><br>"
   ]
  },
  {
   "cell_type": "markdown",
   "metadata": {},
   "source": [
    "---"
   ]
  },
  {
   "cell_type": "markdown",
   "metadata": {},
   "source": [
    "# Section 1\n",
    "\n",
    "### Custom-preprocessed data with more restrictive stopwords eliminated:"
   ]
  },
  {
   "cell_type": "markdown",
   "metadata": {},
   "source": [
    "### MODEL: CountVectorizer / Logistic Regression"
   ]
  },
  {
   "cell_type": "code",
   "execution_count": 35,
   "metadata": {},
   "outputs": [
    {
     "name": "stdout",
     "output_type": "stream",
     "text": [
      "*** TEST set ***\n",
      "Score : 0.9048638727439584\n",
      "                precision    recall  f1-score   support\n",
      "\n",
      "  Supernatural       0.83      0.91      0.87      1117\n",
      "Thetruthishere       0.95      0.90      0.93      2152\n",
      "\n",
      "      accuracy                           0.90      3269\n",
      "     macro avg       0.89      0.91      0.90      3269\n",
      "  weighted avg       0.91      0.90      0.91      3269\n",
      "\n",
      "\n",
      "\n",
      "Best Params : {'countvectorizer__max_features': 1000, 'countvectorizer__ngram_range': (1, 2), 'logisticregression__C': 0.1}\n",
      "                coefs\n",
      "experience   1.211872\n",
      "paranormal   0.985137\n",
      "video        0.818047\n",
      "ufo          0.756790\n",
      "strange      0.737213\n",
      "alien        0.720195\n",
      "light        0.682870\n",
      "spiritual    0.656697\n",
      "story        0.642799\n",
      "experienced  0.596054\n",
      "moving       0.589708\n",
      "spirit       0.582326\n",
      "believe      0.579781\n",
      "scary        0.550917\n",
      "house        0.544782\n",
      "area         0.538793\n",
      "information  0.531277\n",
      "dream        0.518195\n",
      "link         0.514244\n",
      "type         0.511068\n",
      "animal       0.505339\n",
      "bed          0.504985\n",
      "place        0.494363\n",
      "home         0.489881\n",
      "heard        0.487670\n",
      "              coefs\n",
      "view      -1.180811\n",
      "fan       -1.109510\n",
      "ca        -1.091863\n",
      "watch     -1.012372\n",
      "castiel   -0.980184\n",
      "ending    -0.929407\n",
      "watching  -0.879733\n",
      "bobby     -0.868481\n",
      "lucifer   -0.850341\n",
      "jack      -0.845392\n",
      "monster   -0.833524\n",
      "favorite  -0.750794\n",
      "end       -0.730112\n",
      "watched   -0.724378\n",
      "boy       -0.715329\n",
      "final     -0.692347\n",
      "angel     -0.619299\n",
      "demon     -0.605805\n",
      "empty     -0.575234\n",
      "writer    -0.570789\n",
      "happy     -0.548221\n",
      "wanted    -0.538706\n",
      "finished  -0.520576\n",
      "best      -0.517905\n",
      "literally -0.509716\n"
     ]
    },
    {
     "data": {
      "image/png": "[encoded data removed]",
      "text/plain": [
       "<Figure size 720x720 with 2 Axes>"
      ]
     },
     "metadata": {
      "needs_background": "light"
     },
     "output_type": "display_data"
    }
   ],
   "source": [
    "pipe = Pipeline([('countvectorizer', CountVectorizer()), ('logisticregression', LogisticRegression(max_iter=10_000))])\n",
    "param = [\n",
    "    {\n",
    "        'logisticregression__C': [.1, 1, 10],\n",
    "        'countvectorizer__max_features': [100, 500, 1000],\n",
    "        'countvectorizer__ngram_range': [(1, 2)]\n",
    "    }\n",
    "]\n",
    "grid = GridSearchCV(pipe, param, n_jobs = -1)\n",
    "grid.fit(X_train, y_train)\n",
    "print_results(grid, X_train, X_test, y_train, y_test)\n",
    "top_words(X_test, grid.best_estimator_.named_steps[list(grid.best_estimator_.named_steps.keys())[-1]])"
   ]
  },
  {
   "cell_type": "markdown",
   "metadata": {},
   "source": [
    "<br><br>"
   ]
  }
 ],
 "metadata": {
  "kernelspec": {
   "display_name": "Python 3",
   "language": "python",
   "name": "python3"
  },
  "language_info": {
   "codemirror_mode": {
    "name": "ipython",
    "version": 3
   },
   "file_extension": ".py",
   "mimetype": "text/x-python",
   "name": "python",
   "nbconvert_exporter": "python",
   "pygments_lexer": "ipython3",
   "version": "3.8.2"
  }
 },
 "nbformat": 4,
 "nbformat_minor": 4
}
