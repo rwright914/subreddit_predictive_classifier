{
 "cells": [
  {
   "cell_type": "markdown",
   "metadata": {},
   "source": [
    "# Compiling Master Dataframe of Both Subreddits"
   ]
  },
  {
   "cell_type": "code",
   "execution_count": 1,
   "metadata": {},
   "outputs": [],
   "source": [
    "import pandas as pd\n",
    "import numpy as np\n",
    "import matplotlib.pyplot as plt"
   ]
  },
  {
   "cell_type": "code",
   "execution_count": 2,
   "metadata": {},
   "outputs": [
    {
     "name": "stderr",
     "output_type": "stream",
     "text": [
      "/Users/rebeccawright/opt/anaconda3/lib/python3.8/site-packages/IPython/core/interactiveshell.py:3146: DtypeWarning: Columns (0,1,8,9,10,11,16,18,19,20,21,22,24,33,34,40,45,46,55,65,68,75,80,81,88,89) have mixed types.Specify dtype option on import or set low_memory=False.\n",
      "  has_raised = await self.run_ast_nodes(code_ast.body, cell_name,\n",
      "/Users/rebeccawright/opt/anaconda3/lib/python3.8/site-packages/IPython/core/interactiveshell.py:3146: DtypeWarning: Columns (82,83) have mixed types.Specify dtype option on import or set low_memory=False.\n",
      "  has_raised = await self.run_ast_nodes(code_ast.body, cell_name,\n"
     ]
    }
   ],
   "source": [
    "truth_data = pd.read_csv('../../data/original_data/truth_scrape.csv')\n",
    "super_data = pd.read_csv('../../data/original_data/super_scrape.csv')"
   ]
  },
  {
   "cell_type": "markdown",
   "metadata": {},
   "source": [
    "**Data Cleaning Steps**\n",
    "* strike all rows were selftext is [deleted] / [removed] / null\n",
    "* strike all rows were title is [deleted] / [removed] / null"
   ]
  },
  {
   "cell_type": "code",
   "execution_count": 4,
   "metadata": {},
   "outputs": [],
   "source": [
    "def clean_data(data):\n",
    "    data.dropna(subset=['selftext'], inplace=True)\n",
    "    data.dropna(subset=['title'], inplace=True)\n",
    "    data = data[data['selftext']!='[removed]']\n",
    "    data = data[data['selftext']!='[deleted]']\n",
    "    data = data[data['title']!='[deleted]']\n",
    "    data = data[data['title']!='[removed]']\n",
    "    \n",
    "    return data"
   ]
  },
  {
   "cell_type": "code",
   "execution_count": 5,
   "metadata": {},
   "outputs": [],
   "source": [
    "truth_data = truth_data[['title', 'selftext', 'subreddit']].copy()\n",
    "super_data = super_data[['title', 'selftext', 'subreddit']].copy()"
   ]
  },
  {
   "cell_type": "code",
   "execution_count": 6,
   "metadata": {},
   "outputs": [],
   "source": [
    "clean_truth = clean_data(truth_data)\n",
    "clean_super = clean_data(super_data)"
   ]
  },
  {
   "cell_type": "code",
   "execution_count": 7,
   "metadata": {},
   "outputs": [],
   "source": [
    "df = pd.concat([clean_truth, clean_super], ignore_index=True, sort=False)"
   ]
  },
  {
   "cell_type": "code",
   "execution_count": 8,
   "metadata": {},
   "outputs": [
    {
     "data": {
      "text/html": [
       "<div>\n",
       "<style scoped>\n",
       "    .dataframe tbody tr th:only-of-type {\n",
       "        vertical-align: middle;\n",
       "    }\n",
       "\n",
       "    .dataframe tbody tr th {\n",
       "        vertical-align: top;\n",
       "    }\n",
       "\n",
       "    .dataframe thead th {\n",
       "        text-align: right;\n",
       "    }\n",
       "</style>\n",
       "<table border=\"1\" class=\"dataframe\">\n",
       "  <thead>\n",
       "    <tr style=\"text-align: right;\">\n",
       "      <th></th>\n",
       "      <th>title</th>\n",
       "      <th>selftext</th>\n",
       "      <th>subreddit</th>\n",
       "    </tr>\n",
       "  </thead>\n",
       "  <tbody>\n",
       "    <tr>\n",
       "      <th>0</th>\n",
       "      <td>What is this thing?</td>\n",
       "      <td>Hi! \\n\\nIm new to reddit. I joined reddit so I...</td>\n",
       "      <td>Thetruthishere</td>\n",
       "    </tr>\n",
       "    <tr>\n",
       "      <th>1</th>\n",
       "      <td>The time my brothers and I witnessed an altern...</td>\n",
       "      <td>This happened about 8 years ago. I would’ve be...</td>\n",
       "      <td>Thetruthishere</td>\n",
       "    </tr>\n",
       "    <tr>\n",
       "      <th>2</th>\n",
       "      <td>Hello, my name is Bibium. I am the Gaming Oper...</td>\n",
       "      <td>Before I get into detail of all of the **main,...</td>\n",
       "      <td>Thetruthishere</td>\n",
       "    </tr>\n",
       "    <tr>\n",
       "      <th>3</th>\n",
       "      <td>The strange burning cold in my belly and what ...</td>\n",
       "      <td>I started having this feeling a week ago in my...</td>\n",
       "      <td>Thetruthishere</td>\n",
       "    </tr>\n",
       "    <tr>\n",
       "      <th>4</th>\n",
       "      <td>Seeing our life in another universe while drea...</td>\n",
       "      <td>I was wondering if someone had a similar exper...</td>\n",
       "      <td>Thetruthishere</td>\n",
       "    </tr>\n",
       "  </tbody>\n",
       "</table>\n",
       "</div>"
      ],
      "text/plain": [
       "                                               title  \\\n",
       "0                                What is this thing?   \n",
       "1  The time my brothers and I witnessed an altern...   \n",
       "2  Hello, my name is Bibium. I am the Gaming Oper...   \n",
       "3  The strange burning cold in my belly and what ...   \n",
       "4  Seeing our life in another universe while drea...   \n",
       "\n",
       "                                            selftext       subreddit  \n",
       "0  Hi! \\n\\nIm new to reddit. I joined reddit so I...  Thetruthishere  \n",
       "1  This happened about 8 years ago. I would’ve be...  Thetruthishere  \n",
       "2  Before I get into detail of all of the **main,...  Thetruthishere  \n",
       "3  I started having this feeling a week ago in my...  Thetruthishere  \n",
       "4  I was wondering if someone had a similar exper...  Thetruthishere  "
      ]
     },
     "execution_count": 8,
     "metadata": {},
     "output_type": "execute_result"
    }
   ],
   "source": [
    "df.head()"
   ]
  },
  {
   "cell_type": "code",
   "execution_count": 9,
   "metadata": {},
   "outputs": [
    {
     "data": {
      "text/plain": [
       "(13092, 3)"
      ]
     },
     "execution_count": 9,
     "metadata": {},
     "output_type": "execute_result"
    }
   ],
   "source": [
    "df.shape"
   ]
  },
  {
   "cell_type": "code",
   "execution_count": 11,
   "metadata": {},
   "outputs": [],
   "source": [
    "df.to_csv('../../data/cleaned_data/clean_data.csv', index = False)"
   ]
  },
  {
   "cell_type": "code",
   "execution_count": 25,
   "metadata": {},
   "outputs": [
    {
     "data": {
      "text/plain": [
       "0        Thetruthishere\n",
       "1        Thetruthishere\n",
       "2        Thetruthishere\n",
       "3        Thetruthishere\n",
       "4        Thetruthishere\n",
       "              ...      \n",
       "13458      Supernatural\n",
       "13459      Supernatural\n",
       "13460      Supernatural\n",
       "13461      Supernatural\n",
       "13462      Supernatural\n",
       "Name: subreddit, Length: 13463, dtype: object"
      ]
     },
     "execution_count": 25,
     "metadata": {},
     "output_type": "execute_result"
    }
   ],
   "source": []
  },
  {
   "cell_type": "code",
   "execution_count": null,
   "metadata": {},
   "outputs": [],
   "source": []
  }
 ],
 "metadata": {
  "kernelspec": {
   "display_name": "Python 3",
   "language": "python",
   "name": "python3"
  },
  "language_info": {
   "codemirror_mode": {
    "name": "ipython",
    "version": 3
   },
   "file_extension": ".py",
   "mimetype": "text/x-python",
   "name": "python",
   "nbconvert_exporter": "python",
   "pygments_lexer": "ipython3",
   "version": "3.8.2"
  }
 },
 "nbformat": 4,
 "nbformat_minor": 4
}
